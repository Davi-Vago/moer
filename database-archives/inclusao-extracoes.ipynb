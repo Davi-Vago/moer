{
 "cells": [
  {
   "cell_type": "markdown",
   "id": "ae685236-b029-42db-96dd-59e6eb93a501",
   "metadata": {},
   "source": [
    "# **Extração de dados da Planilha**\n",
    "\n",
    "**Autor:** Davi Vago Soares  \n",
    "**Data:** 25-08-2024\n"
   ]
  },
  {
   "cell_type": "code",
   "execution_count": 1,
   "id": "b76bf3b5-cd2b-4410-9676-33acb0b55b09",
   "metadata": {},
   "outputs": [],
   "source": [
    "#Bibliotecas utilizadas\n",
    "\n",
    "import pandas as pd\n",
    "import numpy as np\n",
    "import pyodbc\n",
    "import warnings\n",
    "warnings.filterwarnings('ignore')"
   ]
  },
  {
   "cell_type": "code",
   "execution_count": 2,
   "id": "f11cd289-1fcc-4edc-a8f9-070346f57224",
   "metadata": {},
   "outputs": [],
   "source": [
    "#definindo local do arquivo utilizado\n",
    "\n",
    "caminho = r\"C:\\Users\\davis\\OneDrive\\Repositórios\\Moer\\moer\\database-archives\\registro-extracoes.xlsx\"\n",
    "\n",
    "df = pd.read_excel(caminho)"
   ]
  },
  {
   "cell_type": "code",
   "execution_count": 21,
   "id": "2891026e-5958-4bc0-b67e-460a52e3dd46",
   "metadata": {},
   "outputs": [
    {
     "name": "stdout",
     "output_type": "stream",
     "text": [
      "Conexão bem-sucedida!\n"
     ]
    }
   ],
   "source": [
    "#Conectando ao banco de dados\n",
    "\n",
    "try:\n",
    "    server = 'localhost\\\\SQLEXPRESS'\n",
    "    database = 'coffee'\n",
    "    conn = pyodbc.connect('DRIVER={ODBC Driver 17 for SQL Server};SERVER='+server+';DATABASE='+database+';Trusted_Connection=yes;')\n",
    "    print(\"Conexão bem-sucedida!\")\n",
    "except pyodbc.Error as ex:\n",
    "    sqlstate = ex.args[1]\n",
    "    print(f\"Erro de Conexão: {sqlstate}\")"
   ]
  },
  {
   "cell_type": "code",
   "execution_count": 22,
   "id": "6cd722c5-ba8d-427b-9b96-82abfa650139",
   "metadata": {},
   "outputs": [
    {
     "data": {
      "text/plain": [
       "15"
      ]
     },
     "execution_count": 22,
     "metadata": {},
     "output_type": "execute_result"
    }
   ],
   "source": [
    "#buscando maior id no banco para atualização incremental\n",
    "\n",
    "# Define o comando SQL\n",
    "sql_comando = \"\"\"\n",
    "SELECT MAX(id_extracao_pk) AS max_id\n",
    "FROM [coffee].[dbo].[fato_extracoes]\n",
    "\"\"\"\n",
    "\n",
    "# Executa a consulta e cria um DataFrame\n",
    "maiorId = pd.read_sql_query(sql_comando, conn)\n",
    "maiorId\n",
    "\n",
    "# Obtém o valor de max_id\n",
    "valor_max_id = maiorId['max_id'].iloc[0]\n",
    "valor_max_id\n"
   ]
  },
  {
   "cell_type": "code",
   "execution_count": 23,
   "id": "6dba5cc0-f4dc-42bc-b024-eb7f512fc65a",
   "metadata": {},
   "outputs": [],
   "source": [
    "# Filtra o DataFrame df onde id_extracao_pk é maior que o valor de max_id\n",
    "df_filtrado = df[df['id_extracao_pk'] > valor_max_id]"
   ]
  },
  {
   "cell_type": "code",
   "execution_count": 24,
   "id": "dbe48b80-2bb7-423b-9e39-d0baa42ccca3",
   "metadata": {},
   "outputs": [
    {
     "data": {
      "text/html": [
       "<div>\n",
       "<style scoped>\n",
       "    .dataframe tbody tr th:only-of-type {\n",
       "        vertical-align: middle;\n",
       "    }\n",
       "\n",
       "    .dataframe tbody tr th {\n",
       "        vertical-align: top;\n",
       "    }\n",
       "\n",
       "    .dataframe thead th {\n",
       "        text-align: right;\n",
       "    }\n",
       "</style>\n",
       "<table border=\"1\" class=\"dataframe\">\n",
       "  <thead>\n",
       "    <tr style=\"text-align: right;\">\n",
       "      <th></th>\n",
       "      <th>id_moedor_fk</th>\n",
       "      <th>id_metodo_fk</th>\n",
       "      <th>id_cafe_fk</th>\n",
       "      <th>vl_peso_cafe</th>\n",
       "      <th>vl_nota</th>\n",
       "      <th>vl_pesoagua</th>\n",
       "      <th>vl_temperatura</th>\n",
       "      <th>vl_regulagem_moedor</th>\n",
       "      <th>ds_sensorial</th>\n",
       "      <th>ds_corpo</th>\n",
       "      <th>dt_dia_extracao</th>\n",
       "      <th>ts_tempo_extracao</th>\n",
       "    </tr>\n",
       "  </thead>\n",
       "  <tbody>\n",
       "    <tr>\n",
       "      <th>4</th>\n",
       "      <td>1</td>\n",
       "      <td>3</td>\n",
       "      <td>1.0</td>\n",
       "      <td>20.5</td>\n",
       "      <td>4.0</td>\n",
       "      <td>300.0</td>\n",
       "      <td>93.0</td>\n",
       "      <td>110.0</td>\n",
       "      <td>Fruatas Amarelas</td>\n",
       "      <td>macio</td>\n",
       "      <td>2024-08-31</td>\n",
       "      <td>00:02:50.0000000</td>\n",
       "    </tr>\n",
       "  </tbody>\n",
       "</table>\n",
       "</div>"
      ],
      "text/plain": [
       "   id_moedor_fk  id_metodo_fk  id_cafe_fk  vl_peso_cafe  vl_nota  vl_pesoagua  \\\n",
       "4             1             3         1.0          20.5      4.0        300.0   \n",
       "\n",
       "   vl_temperatura  vl_regulagem_moedor      ds_sensorial ds_corpo  \\\n",
       "4            93.0                110.0  Fruatas Amarelas    macio   \n",
       "\n",
       "  dt_dia_extracao ts_tempo_extracao  \n",
       "4      2024-08-31  00:02:50.0000000  "
      ]
     },
     "execution_count": 24,
     "metadata": {},
     "output_type": "execute_result"
    }
   ],
   "source": [
    "#Selecionando colunas\n",
    "\n",
    "df = df_filtrado[['id_moedor_fk', 'id_metodo_fk',\n",
    "       'id_cafe_fk', 'vl_peso_cafe', 'vl_nota', 'vl_pesoagua',\n",
    "       'vl_temperatura', 'vl_regulagem_moedor', 'ds_sensorial', 'ds_corpo',\n",
    "       'dt_dia_extracao', 'ts_tempo_extracao']].copy()\n",
    "\n",
    "df"
   ]
  },
  {
   "cell_type": "code",
   "execution_count": 25,
   "id": "4f225081-f148-45b4-8006-228850bf1101",
   "metadata": {},
   "outputs": [],
   "source": [
    "# Escrevendo dados no banco\n",
    "\n",
    "cursor = conn.cursor()\n",
    "\n",
    "sql_comando = \"\"\"INSERT INTO [coffee].[dbo].[fato_extracoes] (\n",
    "       [id_moedor_fk]\n",
    "      ,[id_metodo_fk]\n",
    "      ,[id_cafe_fk]\n",
    "      ,[vl_peso_cafe]\n",
    "      ,[vl_nota]\n",
    "      ,[vl_pesoagua]\n",
    "      ,[vl_temperatura]\n",
    "      ,[vl_regulagem_moedor]\n",
    "      ,[ds_sensorial]\n",
    "      ,[ds_corpo]\n",
    "      ,[dt_dia_extracao]\n",
    "      ,[ts_tempo_extracao]) \n",
    "      VALUES ( ?, ?, ?, ?, ?, ?, ?, ?, ?, ?, ?, ?)\"\"\"\n",
    "\n",
    "# Iterando pelas linhas do DataFrame\n",
    "for array in df.values:\n",
    "    # Executa o comando SQL substituindo os placeholders pelos valores da linha\n",
    "    cursor.execute(sql_comando, tuple(array))\n",
    "\n",
    "# Confirma as mudanças no banco de dados\n",
    "conn.commit()"
   ]
  },
  {
   "cell_type": "code",
   "execution_count": null,
   "id": "405b66c9-7085-48da-886c-9d4ef22b965c",
   "metadata": {},
   "outputs": [],
   "source": []
  }
 ],
 "metadata": {
  "kernelspec": {
   "display_name": "Python 3 (ipykernel)",
   "language": "python",
   "name": "python3"
  },
  "language_info": {
   "codemirror_mode": {
    "name": "ipython",
    "version": 3
   },
   "file_extension": ".py",
   "mimetype": "text/x-python",
   "name": "python",
   "nbconvert_exporter": "python",
   "pygments_lexer": "ipython3",
   "version": "3.12.4"
  }
 },
 "nbformat": 4,
 "nbformat_minor": 5
}
