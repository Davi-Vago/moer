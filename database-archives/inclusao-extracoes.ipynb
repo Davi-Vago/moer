{
 "cells": [
  {
   "cell_type": "markdown",
   "id": "ae685236-b029-42db-96dd-59e6eb93a501",
   "metadata": {},
   "source": [
    "# **Extração de dados da Planilha**\n",
    "\n",
    "**Autor:** Davi Vago Soares  \n",
    "**Data:** 25-08-2024\n"
   ]
  },
  {
   "cell_type": "code",
   "execution_count": 11,
   "id": "b76bf3b5-cd2b-4410-9676-33acb0b55b09",
   "metadata": {},
   "outputs": [],
   "source": [
    "#Bibliotecas utilizadas\n",
    "\n",
    "import pandas as pd\n",
    "import numpy as np\n",
    "import pyodbc\n",
    "import warnings\n",
    "warnings.filterwarnings('ignore')"
   ]
  },
  {
   "cell_type": "code",
   "execution_count": 12,
   "id": "f11cd289-1fcc-4edc-a8f9-070346f57224",
   "metadata": {},
   "outputs": [],
   "source": [
    "#definindo local do arquivo utilizado\n",
    "\n",
    "caminho = r\"C:\\Users\\davis\\OneDrive\\Repositórios\\Moer\\moer\\database-archives\\registro-extracoes.xlsx\"\n",
    "\n",
    "df = pd.read_excel(caminho)"
   ]
  },
  {
   "cell_type": "code",
   "execution_count": 13,
   "id": "884b33e5-dcaf-4af3-8a00-c3f9840af3bb",
   "metadata": {},
   "outputs": [
    {
     "data": {
      "text/plain": [
       "Index(['id_extracao_pk', 'id_moedor_fk', 'Moedor', 'id_metodo_fk', 'Método',\n",
       "       'id_cafe_fk', 'vl_peso_cafe', 'vl_nota', 'vl_pesoagua',\n",
       "       'vl_temperatura', 'vl_regulagem_moedor', 'ds_sensorial', 'ds_corpo',\n",
       "       'dt_dia_extracao', 'ts_tempo_extracao'],\n",
       "      dtype='object')"
      ]
     },
     "execution_count": 13,
     "metadata": {},
     "output_type": "execute_result"
    }
   ],
   "source": [
    "df.columns"
   ]
  },
  {
   "cell_type": "code",
   "execution_count": 14,
   "id": "c2b86fbd-f695-4ccd-bb0b-a4df42e2060f",
   "metadata": {},
   "outputs": [
    {
     "data": {
      "text/plain": [
       "id_extracao_pk                float64\n",
       "id_moedor_fk                    int64\n",
       "Moedor                         object\n",
       "id_metodo_fk                    int64\n",
       "Método                         object\n",
       "id_cafe_fk                    float64\n",
       "vl_peso_cafe                  float64\n",
       "vl_nota                       float64\n",
       "vl_pesoagua                   float64\n",
       "vl_temperatura                float64\n",
       "vl_regulagem_moedor           float64\n",
       "ds_sensorial                   object\n",
       "ds_corpo                       object\n",
       "dt_dia_extracao        datetime64[ns]\n",
       "ts_tempo_extracao              object\n",
       "dtype: object"
      ]
     },
     "execution_count": 14,
     "metadata": {},
     "output_type": "execute_result"
    }
   ],
   "source": [
    "#Verificando tipos\n",
    "\n",
    "df.dtypes"
   ]
  },
  {
   "cell_type": "code",
   "execution_count": 15,
   "id": "d467b2f2-4b9e-4188-9e27-7c0bb17907f0",
   "metadata": {},
   "outputs": [
    {
     "data": {
      "text/html": [
       "<div>\n",
       "<style scoped>\n",
       "    .dataframe tbody tr th:only-of-type {\n",
       "        vertical-align: middle;\n",
       "    }\n",
       "\n",
       "    .dataframe tbody tr th {\n",
       "        vertical-align: top;\n",
       "    }\n",
       "\n",
       "    .dataframe thead th {\n",
       "        text-align: right;\n",
       "    }\n",
       "</style>\n",
       "<table border=\"1\" class=\"dataframe\">\n",
       "  <thead>\n",
       "    <tr style=\"text-align: right;\">\n",
       "      <th></th>\n",
       "      <th>id_extracao_pk</th>\n",
       "      <th>id_moedor_fk</th>\n",
       "      <th>Moedor</th>\n",
       "      <th>id_metodo_fk</th>\n",
       "      <th>Método</th>\n",
       "      <th>id_cafe_fk</th>\n",
       "      <th>vl_peso_cafe</th>\n",
       "      <th>vl_nota</th>\n",
       "      <th>vl_pesoagua</th>\n",
       "      <th>vl_temperatura</th>\n",
       "      <th>vl_regulagem_moedor</th>\n",
       "      <th>ds_sensorial</th>\n",
       "      <th>ds_corpo</th>\n",
       "      <th>dt_dia_extracao</th>\n",
       "      <th>ts_tempo_extracao</th>\n",
       "    </tr>\n",
       "  </thead>\n",
       "  <tbody>\n",
       "    <tr>\n",
       "      <th>0</th>\n",
       "      <td>1.0</td>\n",
       "      <td>1</td>\n",
       "      <td>Kingrinder K6</td>\n",
       "      <td>3</td>\n",
       "      <td>Hario V60 acrilico</td>\n",
       "      <td>1.0</td>\n",
       "      <td>20.5</td>\n",
       "      <td>3.0</td>\n",
       "      <td>301.0</td>\n",
       "      <td>97.0</td>\n",
       "      <td>100.0</td>\n",
       "      <td>Frutas amarelas</td>\n",
       "      <td>Macio</td>\n",
       "      <td>2024-08-24</td>\n",
       "      <td>00:03:01.0000000</td>\n",
       "    </tr>\n",
       "    <tr>\n",
       "      <th>1</th>\n",
       "      <td>9.0</td>\n",
       "      <td>1</td>\n",
       "      <td>Kingrinder K6</td>\n",
       "      <td>3</td>\n",
       "      <td>Hario V60 acrilico</td>\n",
       "      <td>1.0</td>\n",
       "      <td>20.9</td>\n",
       "      <td>4.0</td>\n",
       "      <td>305.2</td>\n",
       "      <td>94.4</td>\n",
       "      <td>100.0</td>\n",
       "      <td>Rapadura</td>\n",
       "      <td>Médio</td>\n",
       "      <td>2024-08-27</td>\n",
       "      <td>00:03:40.0000000</td>\n",
       "    </tr>\n",
       "    <tr>\n",
       "      <th>2</th>\n",
       "      <td>10.0</td>\n",
       "      <td>1</td>\n",
       "      <td>Kingrinder K6</td>\n",
       "      <td>2</td>\n",
       "      <td>Aeropress</td>\n",
       "      <td>1.0</td>\n",
       "      <td>17.0</td>\n",
       "      <td>4.0</td>\n",
       "      <td>190.0</td>\n",
       "      <td>98.0</td>\n",
       "      <td>80.0</td>\n",
       "      <td>Chocolate Amargo</td>\n",
       "      <td>Encorpado</td>\n",
       "      <td>2024-08-28</td>\n",
       "      <td>00:00:30.0000000</td>\n",
       "    </tr>\n",
       "    <tr>\n",
       "      <th>3</th>\n",
       "      <td>NaN</td>\n",
       "      <td>0</td>\n",
       "      <td>NaN</td>\n",
       "      <td>0</td>\n",
       "      <td>NaN</td>\n",
       "      <td>NaN</td>\n",
       "      <td>NaN</td>\n",
       "      <td>NaN</td>\n",
       "      <td>NaN</td>\n",
       "      <td>NaN</td>\n",
       "      <td>NaN</td>\n",
       "      <td>NaN</td>\n",
       "      <td>NaN</td>\n",
       "      <td>NaT</td>\n",
       "      <td>NaN</td>\n",
       "    </tr>\n",
       "    <tr>\n",
       "      <th>4</th>\n",
       "      <td>NaN</td>\n",
       "      <td>0</td>\n",
       "      <td>NaN</td>\n",
       "      <td>0</td>\n",
       "      <td>NaN</td>\n",
       "      <td>NaN</td>\n",
       "      <td>NaN</td>\n",
       "      <td>NaN</td>\n",
       "      <td>NaN</td>\n",
       "      <td>NaN</td>\n",
       "      <td>NaN</td>\n",
       "      <td>NaN</td>\n",
       "      <td>NaN</td>\n",
       "      <td>NaT</td>\n",
       "      <td>NaN</td>\n",
       "    </tr>\n",
       "  </tbody>\n",
       "</table>\n",
       "</div>"
      ],
      "text/plain": [
       "   id_extracao_pk  id_moedor_fk         Moedor  id_metodo_fk  \\\n",
       "0             1.0             1  Kingrinder K6             3   \n",
       "1             9.0             1  Kingrinder K6             3   \n",
       "2            10.0             1  Kingrinder K6             2   \n",
       "3             NaN             0            NaN             0   \n",
       "4             NaN             0            NaN             0   \n",
       "\n",
       "               Método  id_cafe_fk  vl_peso_cafe  vl_nota  vl_pesoagua  \\\n",
       "0  Hario V60 acrilico         1.0          20.5      3.0        301.0   \n",
       "1  Hario V60 acrilico         1.0          20.9      4.0        305.2   \n",
       "2           Aeropress         1.0          17.0      4.0        190.0   \n",
       "3                 NaN         NaN           NaN      NaN          NaN   \n",
       "4                 NaN         NaN           NaN      NaN          NaN   \n",
       "\n",
       "   vl_temperatura  vl_regulagem_moedor      ds_sensorial   ds_corpo  \\\n",
       "0            97.0                100.0   Frutas amarelas      Macio   \n",
       "1            94.4                100.0          Rapadura      Médio   \n",
       "2            98.0                 80.0  Chocolate Amargo  Encorpado   \n",
       "3             NaN                  NaN               NaN        NaN   \n",
       "4             NaN                  NaN               NaN        NaN   \n",
       "\n",
       "  dt_dia_extracao ts_tempo_extracao  \n",
       "0      2024-08-24  00:03:01.0000000  \n",
       "1      2024-08-27  00:03:40.0000000  \n",
       "2      2024-08-28  00:00:30.0000000  \n",
       "3             NaT               NaN  \n",
       "4             NaT               NaN  "
      ]
     },
     "execution_count": 15,
     "metadata": {},
     "output_type": "execute_result"
    }
   ],
   "source": [
    "#verificando dataframe\n",
    "\n",
    "df.head()"
   ]
  },
  {
   "cell_type": "code",
   "execution_count": 16,
   "id": "2891026e-5958-4bc0-b67e-460a52e3dd46",
   "metadata": {},
   "outputs": [
    {
     "name": "stdout",
     "output_type": "stream",
     "text": [
      "Conexão bem-sucedida!\n"
     ]
    }
   ],
   "source": [
    "#Conectando ao banco de dados\n",
    "\n",
    "try:\n",
    "    server = 'localhost\\\\SQLEXPRESS'\n",
    "    database = 'coffee'\n",
    "    conn = pyodbc.connect('DRIVER={ODBC Driver 17 for SQL Server};SERVER='+server+';DATABASE='+database+';Trusted_Connection=yes;')\n",
    "    print(\"Conexão bem-sucedida!\")\n",
    "except pyodbc.Error as ex:\n",
    "    sqlstate = ex.args[1]\n",
    "    print(f\"Erro de Conexão: {sqlstate}\")"
   ]
  },
  {
   "cell_type": "code",
   "execution_count": 17,
   "id": "6cd722c5-ba8d-427b-9b96-82abfa650139",
   "metadata": {},
   "outputs": [
    {
     "data": {
      "text/plain": [
       "9"
      ]
     },
     "execution_count": 17,
     "metadata": {},
     "output_type": "execute_result"
    }
   ],
   "source": [
    "#buscando maior id no banco para atualização incremental\n",
    "\n",
    "# Define o comando SQL\n",
    "sql_comando = \"\"\"\n",
    "SELECT MAX(id_extracao_pk) AS max_id\n",
    "FROM [coffee].[dbo].[fato_extracoes]\n",
    "\"\"\"\n",
    "\n",
    "# Executa a consulta e cria um DataFrame\n",
    "maiorId = pd.read_sql_query(sql_comando, conn)\n",
    "maiorId\n",
    "\n",
    "# Obtém o valor de max_id\n",
    "valor_max_id = maiorId['max_id'].iloc[0]\n",
    "valor_max_id\n"
   ]
  },
  {
   "cell_type": "code",
   "execution_count": 18,
   "id": "6dba5cc0-f4dc-42bc-b024-eb7f512fc65a",
   "metadata": {},
   "outputs": [],
   "source": [
    "# Filtra o DataFrame df onde id_extracao_pk é maior que o valor de max_id\n",
    "df_filtrado = df[df['id_extracao_pk'] > valor_max_id]"
   ]
  },
  {
   "cell_type": "code",
   "execution_count": 19,
   "id": "dbe48b80-2bb7-423b-9e39-d0baa42ccca3",
   "metadata": {},
   "outputs": [
    {
     "data": {
      "text/html": [
       "<div>\n",
       "<style scoped>\n",
       "    .dataframe tbody tr th:only-of-type {\n",
       "        vertical-align: middle;\n",
       "    }\n",
       "\n",
       "    .dataframe tbody tr th {\n",
       "        vertical-align: top;\n",
       "    }\n",
       "\n",
       "    .dataframe thead th {\n",
       "        text-align: right;\n",
       "    }\n",
       "</style>\n",
       "<table border=\"1\" class=\"dataframe\">\n",
       "  <thead>\n",
       "    <tr style=\"text-align: right;\">\n",
       "      <th></th>\n",
       "      <th>id_moedor_fk</th>\n",
       "      <th>id_metodo_fk</th>\n",
       "      <th>id_cafe_fk</th>\n",
       "      <th>vl_peso_cafe</th>\n",
       "      <th>vl_nota</th>\n",
       "      <th>vl_pesoagua</th>\n",
       "      <th>vl_temperatura</th>\n",
       "      <th>vl_regulagem_moedor</th>\n",
       "      <th>ds_sensorial</th>\n",
       "      <th>ds_corpo</th>\n",
       "      <th>dt_dia_extracao</th>\n",
       "      <th>ts_tempo_extracao</th>\n",
       "    </tr>\n",
       "  </thead>\n",
       "  <tbody>\n",
       "    <tr>\n",
       "      <th>2</th>\n",
       "      <td>1</td>\n",
       "      <td>2</td>\n",
       "      <td>1.0</td>\n",
       "      <td>17.0</td>\n",
       "      <td>4.0</td>\n",
       "      <td>190.0</td>\n",
       "      <td>98.0</td>\n",
       "      <td>80.0</td>\n",
       "      <td>Chocolate Amargo</td>\n",
       "      <td>Encorpado</td>\n",
       "      <td>2024-08-28</td>\n",
       "      <td>00:00:30.0000000</td>\n",
       "    </tr>\n",
       "  </tbody>\n",
       "</table>\n",
       "</div>"
      ],
      "text/plain": [
       "   id_moedor_fk  id_metodo_fk  id_cafe_fk  vl_peso_cafe  vl_nota  vl_pesoagua  \\\n",
       "2             1             2         1.0          17.0      4.0        190.0   \n",
       "\n",
       "   vl_temperatura  vl_regulagem_moedor      ds_sensorial   ds_corpo  \\\n",
       "2            98.0                 80.0  Chocolate Amargo  Encorpado   \n",
       "\n",
       "  dt_dia_extracao ts_tempo_extracao  \n",
       "2      2024-08-28  00:00:30.0000000  "
      ]
     },
     "execution_count": 19,
     "metadata": {},
     "output_type": "execute_result"
    }
   ],
   "source": [
    "#Selecionando colunas\n",
    "\n",
    "df = df_filtrado[['id_moedor_fk', 'id_metodo_fk',\n",
    "       'id_cafe_fk', 'vl_peso_cafe', 'vl_nota', 'vl_pesoagua',\n",
    "       'vl_temperatura', 'vl_regulagem_moedor', 'ds_sensorial', 'ds_corpo',\n",
    "       'dt_dia_extracao', 'ts_tempo_extracao']].copy()\n",
    "\n",
    "df"
   ]
  },
  {
   "cell_type": "code",
   "execution_count": 20,
   "id": "4f225081-f148-45b4-8006-228850bf1101",
   "metadata": {},
   "outputs": [],
   "source": [
    "# Escrevendo dados no banco\n",
    "\n",
    "cursor = conn.cursor()\n",
    "\n",
    "sql_comando = \"\"\"INSERT INTO [coffee].[dbo].[fato_extracoes] (\n",
    "       [id_moedor_fk]\n",
    "      ,[id_metodo_fk]\n",
    "      ,[id_cafe_fk]\n",
    "      ,[vl_peso_cafe]\n",
    "      ,[vl_nota]\n",
    "      ,[vl_pesoagua]\n",
    "      ,[vl_temperatura]\n",
    "      ,[vl_regulagem_moedor]\n",
    "      ,[ds_sensorial]\n",
    "      ,[ds_corpo]\n",
    "      ,[dt_dia_extracao]\n",
    "      ,[ts_tempo_extracao]) \n",
    "      VALUES ( ?, ?, ?, ?, ?, ?, ?, ?, ?, ?, ?, ?)\"\"\"\n",
    "\n",
    "# Iterando pelas linhas do DataFrame\n",
    "for array in df.values:\n",
    "    # Executa o comando SQL substituindo os placeholders pelos valores da linha\n",
    "    cursor.execute(sql_comando, tuple(array))\n",
    "\n",
    "# Confirma as mudanças no banco de dados\n",
    "conn.commit()"
   ]
  },
  {
   "cell_type": "code",
   "execution_count": null,
   "id": "405b66c9-7085-48da-886c-9d4ef22b965c",
   "metadata": {},
   "outputs": [],
   "source": []
  }
 ],
 "metadata": {
  "kernelspec": {
   "display_name": "Python 3 (ipykernel)",
   "language": "python",
   "name": "python3"
  },
  "language_info": {
   "codemirror_mode": {
    "name": "ipython",
    "version": 3
   },
   "file_extension": ".py",
   "mimetype": "text/x-python",
   "name": "python",
   "nbconvert_exporter": "python",
   "pygments_lexer": "ipython3",
   "version": "3.12.4"
  }
 },
 "nbformat": 4,
 "nbformat_minor": 5
}
